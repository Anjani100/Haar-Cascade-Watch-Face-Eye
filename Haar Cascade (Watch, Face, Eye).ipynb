{
 "cells": [
  {
   "cell_type": "markdown",
   "metadata": {},
   "source": [
    "## Creating Positive and Negative Datasets"
   ]
  },
  {
   "cell_type": "code",
   "execution_count": null,
   "metadata": {},
   "outputs": [],
   "source": [
    "import cv2\n",
    "import numpy as np\n",
    "import os\n",
    "\n",
    "## For negative images, replace pos by neg\n",
    "\n",
    "def store_raw_images():\n",
    "    if not os.path.exists('pos'):\n",
    "        os.makedirs('pos')\n",
    "    pic_num = 1\n",
    "    for img in os.listdir('pos'):\n",
    "        try:\n",
    "            print(img)\n",
    "            img = cv2.imread('pos/' + str(img), cv2.IMREAD_GRAYSCALE)\n",
    "            resized_image = cv2.resize(img, (100, 100))\n",
    "            cv2.imwrite('pos_2/' + str(pic_num) + '_1_0_0_50_50.jpg', resized_image)\n",
    "            pic_num += 1\n",
    "        except Exception as e:\n",
    "            print(str(e))\n",
    "\n",
    "## To remove any empty files from the dataset\n",
    "\n",
    "def find_uglies():\n",
    "    for file_type in ['neg']:\n",
    "        for img in os.listdir(file_type):\n",
    "            for ugly in os.listdir('uglies'):\n",
    "                try:\n",
    "                    current_image_path = str(file_type) + '/' + str(img)\n",
    "                    ugly = cv2.imread('uglies/' + str(ugly))\n",
    "                    question = cv2.imread(current_image_path)\n",
    "\n",
    "                    if ugly.shape ==  question.shape and not(np.bitwise_xor(ugly, question).any()):\n",
    "                        print('Ugly Image')\n",
    "                        print(current_image_path)\n",
    "                        os.remove(current_image_path)\n",
    "                except Exception as e:\n",
    "                    print(str(e))\n",
    "\n",
    "def create_pos_n_neg():\n",
    "    for file_type in ['pos']:\n",
    "        for img in os.listdir(file_type):\n",
    "            if file_type == 'neg':\n",
    "                line = file_type + '/' + img + '\\n'\n",
    "                with open('bg.txt', 'a') as f:\n",
    "                    f.write(line)\n",
    "            elif file_type == 'pos':\n",
    "                line = img + ' 1 0 0 50 50\\n'\n",
    "                with open('info.lst', 'a') as f:\n",
    "                    f.write(line)\n",
    "store_raw_images()\n",
    "#find_uglies()\n",
    "#create_pos_n_neg()"
   ]
  },
  {
   "cell_type": "markdown",
   "metadata": {},
   "source": [
    "## Using the watch-cascade.xml file to predict"
   ]
  },
  {
   "cell_type": "code",
   "execution_count": null,
   "metadata": {},
   "outputs": [],
   "source": [
    "import numpy as np\n",
    "import cv2\n",
    "\n",
    "# multiple cascades: https://github.com/Itseez/opencv/tree/master/data/haarcascades\n",
    "\n",
    "face_cascade = cv2.CascadeClassifier('haarcascade_frontalface_default.xml')\n",
    "eye_cascade = cv2.CascadeClassifier('haarcascade_eye.xml')\n",
    "watch_cascade = cv2.CascadeClassifier('watch-cascade.xml')\n",
    "\n",
    "cap = cv2.VideoCapture(0)\n",
    "\n",
    "while True:\n",
    "    ret, image = cap.read()\n",
    "    gray = cv2.cvtColor(image, cv2.COLOR_BGR2GRAY)\n",
    "    faces = face_cascade.detectMultiScale(gray, 1.3, 5)\n",
    "    \n",
    "    watches = watch_cascade.detectMultiScale(gray, 1200, 1200)\n",
    "    \n",
    "    for (x, y, w, h) in watches:\n",
    "        font = cv2.FONT_HERSHEY_SIMPLEX\n",
    "        #cv2.rectangle(image, (x, y), (x + w, y + h), (255, 255, 0), 2)\n",
    "        cv2.putText(image, 'Watch', (x, y), font, 0.5, (255, 255, 0), 2, cv2.LINE_AA)\n",
    "\n",
    "    for (x, y, w, h) in faces:\n",
    "        cv2.rectangle(image, (x, y), (x + w, y + h), (255, 0, 0), 2)\n",
    "        #cv2.putText(image, 'Anjani', (x, y), font, 0.5, (255, 0, 0), 2, cv2.LINE_AA)\n",
    "        roi_gray = gray[y:y + h, x:x + w]\n",
    "        roi_color = image[y:y + h, x:x + w]\n",
    "        \n",
    "        eyes = eye_cascade.detectMultiScale(roi_gray)\n",
    "        for (ex, ey, eh, ew) in eyes:\n",
    "            cv2.rectangle(roi_color, (ex, ey), (ex + ew, ey + eh), (0, 255, 0), 2)\n",
    "            cv2.putText(roi_color, 'Eyes', (ex, ey), font, 0.5, (0, 255, 0), 2, cv2.LINE_AA)\n",
    "    cv2.imshow('image', image)\n",
    "    k = cv2.waitKey(5) & 0xFF\n",
    "    if k == 27:\n",
    "        break\n",
    "cap.release()\n",
    "cv2.destroyAllWindows()"
   ]
  }
 ],
 "metadata": {
  "kernelspec": {
   "display_name": "Python 3",
   "language": "python",
   "name": "python3"
  },
  "language_info": {
   "codemirror_mode": {
    "name": "ipython",
    "version": 3
   },
   "file_extension": ".py",
   "mimetype": "text/x-python",
   "name": "python",
   "nbconvert_exporter": "python",
   "pygments_lexer": "ipython3",
   "version": "3.7.1"
  }
 },
 "nbformat": 4,
 "nbformat_minor": 2
}
